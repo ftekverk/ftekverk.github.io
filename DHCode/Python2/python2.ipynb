{
 "cells": [
  {
   "cell_type": "code",
   "execution_count": null,
   "metadata": {},
   "outputs": [],
   "source": [
    "# 3-1\n",
    "friendsNames = [\"Ryan\", \"Adam\", \"Joe\", \"Josh\"]\n",
    "for name in friendsNames:\n",
    "    print(name)"
   ]
  },
  {
   "cell_type": "code",
   "execution_count": null,
   "metadata": {},
   "outputs": [],
   "source": [
    "# 3-2\n",
    "for name in friendsNames:\n",
    "    print(\"Hello \" + name + \"!\")"
   ]
  },
  {
   "cell_type": "code",
   "execution_count": null,
   "metadata": {},
   "outputs": [],
   "source": [
    "# 3-3\n",
    "transport = [\"Bike\", \"Car\", \"Plane\", \"Boat\"]\n",
    "for elem in transport:\n",
    "    print(\"I would like to own a \" + elem + \".\")"
   ]
  },
  {
   "cell_type": "code",
   "execution_count": 3,
   "metadata": {},
   "outputs": [
    {
     "name": "stdout",
     "output_type": "stream",
     "text": [
      "Hello Hemingway, would you care to have dinner?\n",
      "Hello Fitzgerald, would you care to have dinner?\n",
      "Hello Caesar, would you care to have dinner?\n"
     ]
    }
   ],
   "source": [
    "# 3-4\n",
    "invited = [\"Hemingway\", \"Fitzgerald\", \"Caesar\"]\n",
    "for person in invited:\n",
    "    print(\"Hello \" + person + \", would you care to have dinner?\")"
   ]
  },
  {
   "cell_type": "code",
   "execution_count": 4,
   "metadata": {},
   "outputs": [
    {
     "name": "stdout",
     "output_type": "stream",
     "text": [
      "Unfortunately, Fitzgerald cannot make it.\n",
      "Hello Hemingway, would you care to have dinner?\n",
      "Hello Caesar, would you care to have dinner?\n"
     ]
    }
   ],
   "source": [
    "# 3-5\n",
    "print(\"Unfortunately, \" + invited[1] + \" cannot make it.\")\n",
    "invited.pop(1)\n",
    "for person in invited:\n",
    "    print(\"Hello \" + person + \", would you care to have dinner?\")"
   ]
  },
  {
   "cell_type": "code",
   "execution_count": 5,
   "metadata": {},
   "outputs": [
    {
     "name": "stdout",
     "output_type": "stream",
     "text": [
      "We have found a bigger table!\n",
      "Hello Einstein, would you care to have dinner?\n",
      "Hello Hemingway, would you care to have dinner?\n",
      "Hello Newton, would you care to have dinner?\n",
      "Hello Caesar, would you care to have dinner?\n",
      "Hello Darwin, would you care to have dinner?\n"
     ]
    }
   ],
   "source": [
    "# 3-6\n",
    "print(\"We have found a bigger table!\")\n",
    "invited.insert(0, \"Einstein\")\n",
    "invited.insert(2, \"Newton\")\n",
    "invited.append(\"Darwin\")\n",
    "\n",
    "# New invitations \n",
    "for person in invited:\n",
    "    print(\"Hello \" + person + \", would you care to have dinner?\")"
   ]
  },
  {
   "cell_type": "code",
   "execution_count": 6,
   "metadata": {},
   "outputs": [
    {
     "name": "stdout",
     "output_type": "stream",
     "text": [
      "We can only have two people to dinner.\n",
      "Sorry Darwin, you are not invited.\n",
      "Sorry Caesar, you are not invited.\n",
      "Sorry Newton, you are not invited.\n",
      "Hello Einstein, you are still invited!\n",
      "Hello Hemingway, you are still invited!\n",
      "[]\n"
     ]
    }
   ],
   "source": [
    "# 3-7\n",
    "print(\"We can only have two people to dinner.\")\n",
    "\n",
    "while len(invited) > 2:\n",
    "    print(\"Sorry \" + invited.pop() + \", you are not invited.\")\n",
    "\n",
    "for person in invited:\n",
    "    print(\"Hello \" + person + \", you are still invited!\")\n",
    "\n",
    "del(invited[0])\n",
    "del(invited[0])\n",
    "\n",
    "print(invited)"
   ]
  },
  {
   "cell_type": "code",
   "execution_count": 8,
   "metadata": {},
   "outputs": [
    {
     "name": "stdout",
     "output_type": "stream",
     "text": [
      "['Paris', 'London', 'Cairo', 'New York', 'Tokyo']\n",
      "['Cairo', 'London', 'New York', 'Paris', 'Tokyo']\n",
      "['Paris', 'London', 'Cairo', 'New York', 'Tokyo']\n",
      "['Tokyo', 'New York', 'Cairo', 'London', 'Paris']\n",
      "['Paris', 'London', 'Cairo', 'New York', 'Tokyo']\n",
      "['Cairo', 'London', 'New York', 'Paris', 'Tokyo']\n",
      "['Tokyo', 'Paris', 'New York', 'London', 'Cairo']\n"
     ]
    }
   ],
   "source": [
    "# 3-8\n",
    "places = [\"Paris\", \"London\", \"Cairo\" , \"New York\", \"Tokyo\"]\n",
    "\n",
    "#print original list\n",
    "print(places)\n",
    "print(sorted(places))\n",
    "print(places)\n",
    "\n",
    "#reverse list\n",
    "places.reverse()\n",
    "print(places)\n",
    "\n",
    "#reverse again\n",
    "places.reverse()\n",
    "print(places)\n",
    "\n",
    "# sort list\n",
    "places.sort()\n",
    "print(places)\n",
    "\n",
    "#sort again, reverse\n",
    "places.sort(reverse=True)\n",
    "print(places)\n"
   ]
  },
  {
   "cell_type": "code",
   "execution_count": 9,
   "metadata": {},
   "outputs": [
    {
     "name": "stdout",
     "output_type": "stream",
     "text": [
      "I like Pepperoni pizza.\n",
      "I like Cheese pizza.\n",
      "I like Buffalo Chicken pizza.\n",
      "I really love pizza!\n"
     ]
    }
   ],
   "source": [
    "# 4-1\n",
    "pizzas = [\"Pepperoni\", \"Cheese\", \"Buffalo Chicken\"]\n",
    "for pizza in pizzas:\n",
    "    print(\"I like \" + pizza + \" pizza.\")\n",
    "\n",
    "print(\"I really love pizza!\")"
   ]
  },
  {
   "cell_type": "code",
   "execution_count": 11,
   "metadata": {},
   "outputs": [
    {
     "name": "stdout",
     "output_type": "stream",
     "text": [
      "A Dog would make a great pet.\n",
      "A Bird would make a great pet.\n",
      "A Cat would make a great pet.\n",
      "Any of these animals would make a great pet!\n"
     ]
    }
   ],
   "source": [
    "# 4-2\n",
    "animals = [\"Dog\", \"Bird\", \"Cat\"]\n",
    "for animal in animals:\n",
    "    print(\"A \" + animal + \" would make a great pet.\")\n",
    "\n",
    "print(\"Any of these animals would make a great pet!\")\n"
   ]
  },
  {
   "cell_type": "code",
   "execution_count": 10,
   "metadata": {},
   "outputs": [
    {
     "name": "stdout",
     "output_type": "stream",
     "text": [
      "1\n",
      "3\n",
      "5\n",
      "7\n",
      "9\n",
      "11\n",
      "13\n",
      "15\n",
      "17\n",
      "19\n"
     ]
    }
   ],
   "source": [
    "# 4-6\n",
    "list = range(1, 21, 2)\n",
    "\n",
    "for num in list:\n",
    "    print(num)"
   ]
  },
  {
   "cell_type": "code",
   "execution_count": 12,
   "metadata": {},
   "outputs": [
    {
     "name": "stdout",
     "output_type": "stream",
     "text": [
      "The first three items in the list are:\n",
      "['Tokyo', 'Paris', 'New York']\n",
      "Three items from the middle of the list are:\n",
      "['Paris', 'New York', 'London']\n",
      "The last three items in the list are:\n",
      "['New York', 'London', 'Cairo']\n"
     ]
    }
   ],
   "source": [
    "# 4-10\n",
    "print(\"The first three items in the list are:\")\n",
    "print(places[:3])\n",
    "\n",
    "print(\"Three items from the middle of the list are:\")\n",
    "print(places[1:4])\n",
    "\n",
    "print(\"The last three items in the list are:\")\n",
    "print(places[-3:])"
   ]
  },
  {
   "cell_type": "code",
   "execution_count": 13,
   "metadata": {},
   "outputs": [
    {
     "name": "stdout",
     "output_type": "stream",
     "text": [
      "My favorite pizzas are:\n",
      "Pepperoni\n",
      "Cheese\n",
      "Buffalo Chicken\n",
      "Hawaiian\n",
      "My friend's favorite pizzas are:\n",
      "Pepperoni\n",
      "Cheese\n",
      "Buffalo Chicken\n",
      "Meat Lovers\n"
     ]
    }
   ],
   "source": [
    "# 4-11\n",
    "\n",
    "friend_pizzas = pizzas[:]\n",
    "\n",
    "pizzas.append(\"Hawaiian\")\n",
    "friend_pizzas.append(\"Meat Lovers\")\n",
    "\n",
    "print(\"My favorite pizzas are:\")\n",
    "for pizza in pizzas:\n",
    "    print(pizza)\n",
    "\n",
    "print(\"My friend's favorite pizzas are:\")\n",
    "for pizza in friend_pizzas:\n",
    "    print(pizza)"
   ]
  }
 ],
 "metadata": {
  "kernelspec": {
   "display_name": "Python 3.8.9 64-bit",
   "language": "python",
   "name": "python3"
  },
  "language_info": {
   "codemirror_mode": {
    "name": "ipython",
    "version": 3
   },
   "file_extension": ".py",
   "mimetype": "text/x-python",
   "name": "python",
   "nbconvert_exporter": "python",
   "pygments_lexer": "ipython3",
   "version": "3.8.9"
  },
  "orig_nbformat": 4,
  "vscode": {
   "interpreter": {
    "hash": "31f2aee4e71d21fbe5cf8b01ff0e069b9275f58929596ceb00d14d90e3e16cd6"
   }
  }
 },
 "nbformat": 4,
 "nbformat_minor": 2
}
